{
 "cells": [
  {
   "cell_type": "code",
   "execution_count": 1,
   "metadata": {},
   "outputs": [],
   "source": [
    "import numpy as np               # el módulo numpy se asocia con alias np\n",
    "import time                      # módulo de gestión del tiempo\n",
    "import cv2                       # módulo de OpenCV\n",
    "# las siguientes librerías permiten mostrar imágenes en el cuaderno\n",
    "import matplotlib                # módulo de visualización\n",
    "import matplotlib.pyplot as plt  # el módulo matplotlib.pyplot con alias plt\n",
    "from IPython.display import clear_output, Image, display, HTML  \n",
    "#import tools_creaVideo as crea   # módulo para generar imágenes virtuales\n",
    "import ipywidgets as widgets     # funcionalidad de interacción con las gráficas\n",
    "from matplotlib import rcParams\n",
    "import os\n",
    "import random"
   ]
  },
  {
   "cell_type": "markdown",
   "metadata": {},
   "source": [
    "# Separar datos de Entrenamiento y Validación"
   ]
  },
  {
   "cell_type": "code",
   "execution_count": 2,
   "metadata": {},
   "outputs": [],
   "source": [
    "\n",
    "X = np.load('x_data.npy')\n",
    "Y = np.load('y_data.npy')\n",
    "\n",
    "random_shuffle = np.arange(55)\n",
    "np.random.shuffle(random_shuffle)\n",
    "\n",
    "X_shuffle = X[:,random_shuffle]\n",
    "Y_shuffle = Y[random_shuffle]\n",
    "\n",
    "X_train = X_shuffle[:,:40]\n",
    "Y_train = Y_shuffle[:40]\n",
    "X_test = X_shuffle[:,40:]\n",
    "Y_test = Y_shuffle[40:]\n",
    "\n",
    "m = X_train.shape[1]\n",
    "n = X_train.shape[0]"
   ]
  },
  {
   "cell_type": "code",
   "execution_count": 3,
   "metadata": {},
   "outputs": [
    {
     "data": {
      "text/plain": [
       "(48400, 55)"
      ]
     },
     "execution_count": 3,
     "metadata": {},
     "output_type": "execute_result"
    }
   ],
   "source": [
    "X.shape"
   ]
  },
  {
   "cell_type": "code",
   "execution_count": 4,
   "metadata": {},
   "outputs": [
    {
     "name": "stdout",
     "output_type": "stream",
     "text": [
      "0 .Es un/a: garbanzo\n"
     ]
    },
    {
     "data": {
      "image/png": "[encoded data removed]",
      "text/plain": [
       "<IPython.core.display.Image object>"
      ]
     },
     "execution_count": 4,
     "metadata": {},
     "output_type": "execute_result"
    }
   ],
   "source": [
    "#Rolling an image\n",
    "num = random.randint(0, 40)\n",
    "x = X_train[:,num]\n",
    "img = x.reshape(220,220)\n",
    "print(str(num)+' .Es un/a: '+(1-int(Y_train[num]))*'garbanzo'+int(Y_train[num])*'habichuela')\n",
    "Image(cv2.imencode('.jpg', img*100)[1])"
   ]
  },
  {
   "cell_type": "markdown",
   "metadata": {},
   "source": [
    "# Funciones Red Neuronal"
   ]
  },
  {
   "cell_type": "code",
   "execution_count": 5,
   "metadata": {},
   "outputs": [],
   "source": [
    "#Sigmoid activation\n",
    "def sigmoid(z):\n",
    "    sigmoid = 1/(1+np.exp(-z))\n",
    "    return sigmoid"
   ]
  },
  {
   "cell_type": "code",
   "execution_count": 6,
   "metadata": {},
   "outputs": [],
   "source": [
    "#Relu activation\n",
    "def relu(z):\n",
    "    relu = np.maximum(0,z)\n",
    "    return relu"
   ]
  },
  {
   "cell_type": "code",
   "execution_count": 7,
   "metadata": {},
   "outputs": [],
   "source": [
    "#Relu derivative\n",
    "def reluDerivative(z):\n",
    "    z[z<=0] = 0\n",
    "    z[z>0] = 1\n",
    "    return z"
   ]
  },
  {
   "cell_type": "code",
   "execution_count": 8,
   "metadata": {},
   "outputs": [],
   "source": [
    "#Initialization\n",
    "def initialization(n_h):\n",
    "\n",
    "    #W1 = np.random.randn(n_h,n)*0.01\n",
    "    W1 = np.random.randn(n_h,n)*np.sqrt(1./n)#xavier inicialitation\n",
    "    b1 = np.zeros((n_h,1))\n",
    "    #W2 = np.random.randn(1,n_h)*0.01\n",
    "    W2 = np.random.randn(1,n_h)*np.sqrt(1./n)#xavier inicialitation\n",
    "    b2 = np.zeros((1,1))\n",
    "    \n",
    "    return W1, b1, W2, b2"
   ]
  },
  {
   "cell_type": "code",
   "execution_count": 9,
   "metadata": {},
   "outputs": [],
   "source": [
    "#Forward propagation\n",
    "def forward(X, Y, W1, b1, W2, b2):\n",
    "    Z1 = np.dot(W1,X)+b1\n",
    "    #A1 = relu(Z1)\n",
    "    A1 = sigmoid(Z1)\n",
    "    Z2 = np.dot(W2,A1)+b2\n",
    "    A2 = sigmoid(Z2)\n",
    "    \n",
    "    cost = -1/m*sum(sum(Y*np.log(A2)+(1-Y)*np.log(1-A2)))\n",
    "    \n",
    "    return cost, Z1, A1, Z2, A2"
   ]
  },
  {
   "cell_type": "code",
   "execution_count": 10,
   "metadata": {},
   "outputs": [],
   "source": [
    "#Backward propagation\n",
    "def backward(X, Y, W1, b1, W2, b2, Z1, A1, Z2, A2):\n",
    "    \n",
    "    dA2 = - (np.divide(Y, A2) - np.divide(1 - Y, 1 - A2))\n",
    "    \n",
    "    dZ2 = dA2*(sigmoid(Z2)*(1-sigmoid(Z2)))\n",
    "    dW2 = 1/m*np.dot(dZ2,A1.T)\n",
    "    db2 = 1/m*np.sum(dZ2,axis=1,keepdims=True)\n",
    "    \n",
    "    dA1 = np.dot(W2.T,dZ2)\n",
    "    \n",
    "    #dZ1 = dA1*reluDerivative(Z1)\n",
    "    dZ1 = dA1*(sigmoid(Z1)*(1-sigmoid(Z1)))\n",
    "    dW1 = 1/m*np.dot(dZ1,X.T)\n",
    "    db1 = 1/m*np.sum(dZ1,axis=1,keepdims=True)\n",
    "    \n",
    "    return dW1, db1, dW2, db2"
   ]
  },
  {
   "cell_type": "code",
   "execution_count": 11,
   "metadata": {},
   "outputs": [],
   "source": [
    "#predict output\n",
    "def predict(X, W1, b1, W2, b2):\n",
    "    Y = sigmoid(np.dot(W2,sigmoid(np.dot(W1,X)+b1))+b2)\n",
    "    predict = Y > 0.5 #vector bolean output\n",
    "    return predict"
   ]
  },
  {
   "cell_type": "markdown",
   "metadata": {},
   "source": [
    "# Entrenamiento de la Red Neuronal"
   ]
  },
  {
   "cell_type": "code",
   "execution_count": 12,
   "metadata": {},
   "outputs": [
    {
     "name": "stdout",
     "output_type": "stream",
     "text": [
      "iteration: 10  Cost: 0.6016358608653004  Train accuracy: 62.5%\n",
      "iteration: 20  Cost: 0.44225384484230407  Train accuracy: 62.5%\n",
      "iteration: 30  Cost: 0.3492191393407745  Train accuracy: 87.5%\n",
      "iteration: 40  Cost: 0.2953519495678859  Train accuracy: 90.0%\n",
      "iteration: 50  Cost: 0.25818183967619945  Train accuracy: 100.0%\n",
      "iteration: 60  Cost: 0.2296128908899628  Train accuracy: 100.0%\n",
      "iteration: 70  Cost: 0.20646527845423238  Train accuracy: 100.0%\n",
      "iteration: 80  Cost: 0.18717801858538746  Train accuracy: 100.0%\n",
      "iteration: 90  Cost: 0.17083106923782515  Train accuracy: 100.0%\n",
      "iteration: 100  Cost: 0.15681050397602603  Train accuracy: 100.0%\n",
      "Tiempo de entrenamiento: 1.5657269954681396 seg\n"
     ]
    },
    {
     "data": {
      "text/plain": [
       "Text(0.5, 0, 'iterations')"
      ]
     },
     "execution_count": 12,
     "metadata": {},
     "output_type": "execute_result"
    },
    {
     "data": {
      "image/png": "[encoded data removed]",
      "text/plain": [
       "<Figure size 432x288 with 1 Axes>"
      ]
     },
     "metadata": {
      "needs_background": "light"
     },
     "output_type": "display_data"
    }
   ],
   "source": [
    "#Training the NN\n",
    "n_h = 10 #hidden layer neurons\n",
    "iterations = 100\n",
    "costs = np.zeros(iterations)\n",
    "accuracys_train = np.zeros(iterations)\n",
    "accuracys_test = np.zeros(iterations)\n",
    "\n",
    "tick = time.time()\n",
    "W1, b1, W2, b2 = initialization(n_h)\n",
    "cost , Z1, A1, Z2, A2 = forward(X_train, Y_train, W1, b1, W2, b2)\n",
    "for iteration in range(iterations):\n",
    "    dW1, db1, dW2, db2 = backward(X_train, Y_train, W1, b1, W2, b2, Z1, A1, Z2, A2)\n",
    "    #gradient descend\n",
    "    alfa = 0.1\n",
    "    W1 = W1 - alfa*dW1\n",
    "    b1 = b1 - alfa*db1\n",
    "    W2 = W2 - alfa*dW2\n",
    "    b2 = b2 - alfa*db2\n",
    "    \n",
    "    cost, Z1, A1, Z2, A2 = forward(X_train, Y_train, W1, b1, W2, b2)\n",
    "    costs[iteration]=cost\n",
    "    accuracys_train[iteration] = (m - int(np.sum(Y_train - predict(X_train, W1, b1, W2, b2), axis=1))) / m\n",
    "    accuracys_test[iteration] = (X_test.shape[1] - int(np.sum(Y_test - predict(X_test, W1, b1, W2, b2), axis=1))) / X_test.shape[1]\n",
    "    if (iteration+1)%10 == 0:\n",
    "        print('iteration: '+str(iteration+1)+'  Cost: '+str(cost)+'  Train accuracy: '+str(accuracys_train[iteration]*100)+'%')    \n",
    "    \n",
    "tock = time.time()\n",
    "print('Tiempo de entrenamiento: '+str(tock-tick)+' seg')\n",
    "plt.plot(costs)\n",
    "plt.ylabel('cost')\n",
    "plt.xlabel('iterations')"
   ]
  },
  {
   "cell_type": "markdown",
   "metadata": {},
   "source": [
    "## Tasa de exito"
   ]
  },
  {
   "cell_type": "code",
   "execution_count": 13,
   "metadata": {},
   "outputs": [
    {
     "data": {
      "image/png": "[encoded data removed]",
      "text/plain": [
       "<Figure size 432x288 with 1 Axes>"
      ]
     },
     "metadata": {
      "needs_background": "light"
     },
     "output_type": "display_data"
    }
   ],
   "source": [
    "plt.plot(accuracys_train, label='train')\n",
    "plt.plot(accuracys_test, label='test')\n",
    "plt.ylabel('accuracy')\n",
    "plt.xlabel('iterations')\n",
    "legend = plt.legend(loc='right', shadow=True)\n",
    "frame = legend.get_frame()\n",
    "#frame.set_facecolor('0.90')"
   ]
  },
  {
   "cell_type": "code",
   "execution_count": 14,
   "metadata": {},
   "outputs": [
    {
     "name": "stdout",
     "output_type": "stream",
     "text": [
      "10. Es un/a: habichuela\n"
     ]
    },
    {
     "data": {
      "image/png": "[encoded data removed]",
      "text/plain": [
       "<IPython.core.display.Image object>"
      ]
     },
     "execution_count": 14,
     "metadata": {},
     "output_type": "execute_result"
    }
   ],
   "source": [
    "#Evaluate some examples\n",
    "num = random.randint(0, 15)\n",
    "x = X_test[:,num].reshape(48400,1)\n",
    "img = x.reshape(220,220)\n",
    "\n",
    "#a2 = sigmoid(np.dot(W2,sigmoid(np.dot(W1,x)+b1))+b2)\n",
    "#prob = a2 > 0.5\n",
    "prediction = predict(x, W1, b1, W2, b2)\n",
    "\n",
    "print(str(num+1)+'. Es un/a: '+(1-int(prediction))*'garbanzo'+int(prediction)*'habichuela')\n",
    "Image(cv2.imencode('.jpg', img*100)[1])"
   ]
  },
  {
   "cell_type": "code",
   "execution_count": 209,
   "metadata": {},
   "outputs": [],
   "source": [
    "#save de data\n",
    "'''\n",
    "np.save('data_NN/W1',W1)\n",
    "np.save('data_NN/W2',W2)\n",
    "np.save('data_NN/b1',b1)\n",
    "np.save('data_NN/b2',b2)\n",
    "'''"
   ]
  }
 ],
 "metadata": {
  "kernelspec": {
   "display_name": "Python 3",
   "language": "python",
   "name": "python3"
  },
  "language_info": {
   "codemirror_mode": {
    "name": "ipython",
    "version": 3
   },
   "file_extension": ".py",
   "mimetype": "text/x-python",
   "name": "python",
   "nbconvert_exporter": "python",
   "pygments_lexer": "ipython3",
   "version": "3.8.5"
  }
 },
 "nbformat": 4,
 "nbformat_minor": 4
}
